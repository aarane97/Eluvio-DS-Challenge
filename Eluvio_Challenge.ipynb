{
 "cells": [
  {
   "cell_type": "markdown",
   "metadata": {
    "colab_type": "text",
    "id": "S_mNeCeTN4wx"
   },
   "source": [
    "**Define a Problem**\n",
    "\n",
    "The first thing I wanted to do was analyse the dataset and see what information could be gleaned by a visual inspection of it.\n",
    "\n",
    "Also I wanted to see if any patterns emerged from processing the given .csv file."
   ]
  },
  {
   "cell_type": "code",
   "execution_count": 1,
   "metadata": {
    "colab": {
     "base_uri": "https://localhost:8080/",
     "height": 122
    },
    "colab_type": "code",
    "id": "YmFvvsj4ZvEk",
    "outputId": "fcb1c591-72c1-4786-b0d4-5017b99dd7f7"
   },
   "outputs": [
    {
     "name": "stdout",
     "output_type": "stream",
     "text": [
      "Go to this URL in a browser: https://accounts.google.com/o/oauth2/auth?client_id=947318989803-6bn6qk8qdgf4n4g3pfee6491hc0brc4i.apps.googleusercontent.com&redirect_uri=urn%3aietf%3awg%3aoauth%3a2.0%3aoob&response_type=code&scope=email%20https%3a%2f%2fwww.googleapis.com%2fauth%2fdocs.test%20https%3a%2f%2fwww.googleapis.com%2fauth%2fdrive%20https%3a%2f%2fwww.googleapis.com%2fauth%2fdrive.photos.readonly%20https%3a%2f%2fwww.googleapis.com%2fauth%2fpeopleapi.readonly\n",
      "\n",
      "Enter your authorization code:\n",
      "··········\n",
      "Mounted at /content/drive\n"
     ]
    }
   ],
   "source": [
    "from google.colab import drive\n",
    "drive.mount('/content/drive')"
   ]
  },
  {
   "cell_type": "code",
   "execution_count": 2,
   "metadata": {
    "colab": {
     "base_uri": "https://localhost:8080/",
     "height": 85
    },
    "colab_type": "code",
    "id": "X1WRfXUvbMDD",
    "outputId": "773ec176-66ec-43cc-fcdb-edab09d054e9"
   },
   "outputs": [
    {
     "name": "stdout",
     "output_type": "stream",
     "text": [
      "[nltk_data] Downloading package stopwords to /root/nltk_data...\n",
      "[nltk_data]   Unzipping corpora/stopwords.zip.\n",
      "[nltk_data] Downloading package punkt to /root/nltk_data...\n",
      "[nltk_data]   Unzipping tokenizers/punkt.zip.\n"
     ]
    }
   ],
   "source": [
    "from textblob import TextBlob\n",
    "import numpy as np\n",
    "import pandas as pd\n",
    "import matplotlib.pyplot as plt\n",
    "import nltk\n",
    "import re\n",
    "from sklearn.svm import LinearSVC\n",
    "from sklearn.model_selection import train_test_split\n",
    "from sklearn.linear_model import LogisticRegression\n",
    "from sklearn.model_selection import GridSearchCV\n",
    "from sklearn.model_selection import cross_val_score\n",
    "from sklearn.metrics import classification_report, confusion_matrix, accuracy_score\n",
    "nltk.download('stopwords')\n",
    "nltk.download('punkt')\n",
    "from nltk.stem.snowball import SnowballStemmer\n",
    "stemmer = SnowballStemmer(\"english\")\n",
    "import csv\n",
    "from scipy.stats import spearmanr\n",
    "import sklearn.feature_extraction.text as text\n",
    "from sklearn.feature_extraction.text import TfidfVectorizer"
   ]
  },
  {
   "cell_type": "code",
   "execution_count": 0,
   "metadata": {
    "colab": {},
    "colab_type": "code",
    "id": "q4sbE39cbWZf"
   },
   "outputs": [],
   "source": [
    "path = \"drive/My Drive/Eluvio/Eluvio_DS_Challenge.csv\"\n",
    "df = pd.read_csv(path)"
   ]
  },
  {
   "cell_type": "markdown",
   "metadata": {
    "colab_type": "text",
    "id": "2lguEbq4OUPR"
   },
   "source": [
    "First I used Pandas library to visualize the data in a neat manner.\n",
    "\n",
    "This enabled me to see the fields and features present. I quickly realized upvotes, titles and author could be fields I could utilize to find out the trends in the given data for effective understanding of it."
   ]
  },
  {
   "cell_type": "code",
   "execution_count": 4,
   "metadata": {
    "colab": {
     "base_uri": "https://localhost:8080/",
     "height": 204
    },
    "colab_type": "code",
    "id": "5VMOzQwWbsVV",
    "outputId": "b727694a-2356-4941-84a5-58ab0bd8fe0d"
   },
   "outputs": [
    {
     "data": {
      "text/html": [
       "<div>\n",
       "<style scoped>\n",
       "    .dataframe tbody tr th:only-of-type {\n",
       "        vertical-align: middle;\n",
       "    }\n",
       "\n",
       "    .dataframe tbody tr th {\n",
       "        vertical-align: top;\n",
       "    }\n",
       "\n",
       "    .dataframe thead th {\n",
       "        text-align: right;\n",
       "    }\n",
       "</style>\n",
       "<table border=\"1\" class=\"dataframe\">\n",
       "  <thead>\n",
       "    <tr style=\"text-align: right;\">\n",
       "      <th></th>\n",
       "      <th>time_created</th>\n",
       "      <th>date_created</th>\n",
       "      <th>up_votes</th>\n",
       "      <th>down_votes</th>\n",
       "      <th>title</th>\n",
       "      <th>over_18</th>\n",
       "      <th>author</th>\n",
       "      <th>category</th>\n",
       "    </tr>\n",
       "  </thead>\n",
       "  <tbody>\n",
       "    <tr>\n",
       "      <th>0</th>\n",
       "      <td>1201232046</td>\n",
       "      <td>2008-01-25</td>\n",
       "      <td>3</td>\n",
       "      <td>0</td>\n",
       "      <td>Scores killed in Pakistan clashes</td>\n",
       "      <td>False</td>\n",
       "      <td>polar</td>\n",
       "      <td>worldnews</td>\n",
       "    </tr>\n",
       "    <tr>\n",
       "      <th>1</th>\n",
       "      <td>1201232075</td>\n",
       "      <td>2008-01-25</td>\n",
       "      <td>2</td>\n",
       "      <td>0</td>\n",
       "      <td>Japan resumes refuelling mission</td>\n",
       "      <td>False</td>\n",
       "      <td>polar</td>\n",
       "      <td>worldnews</td>\n",
       "    </tr>\n",
       "    <tr>\n",
       "      <th>2</th>\n",
       "      <td>1201232523</td>\n",
       "      <td>2008-01-25</td>\n",
       "      <td>3</td>\n",
       "      <td>0</td>\n",
       "      <td>US presses Egypt on Gaza border</td>\n",
       "      <td>False</td>\n",
       "      <td>polar</td>\n",
       "      <td>worldnews</td>\n",
       "    </tr>\n",
       "    <tr>\n",
       "      <th>3</th>\n",
       "      <td>1201233290</td>\n",
       "      <td>2008-01-25</td>\n",
       "      <td>1</td>\n",
       "      <td>0</td>\n",
       "      <td>Jump-start economy: Give health care to all</td>\n",
       "      <td>False</td>\n",
       "      <td>fadi420</td>\n",
       "      <td>worldnews</td>\n",
       "    </tr>\n",
       "    <tr>\n",
       "      <th>4</th>\n",
       "      <td>1201274720</td>\n",
       "      <td>2008-01-25</td>\n",
       "      <td>4</td>\n",
       "      <td>0</td>\n",
       "      <td>Council of Europe bashes EU&amp;UN terror blacklist</td>\n",
       "      <td>False</td>\n",
       "      <td>mhermans</td>\n",
       "      <td>worldnews</td>\n",
       "    </tr>\n",
       "  </tbody>\n",
       "</table>\n",
       "</div>"
      ],
      "text/plain": [
       "   time_created date_created  up_votes  ...  over_18    author   category\n",
       "0    1201232046   2008-01-25         3  ...    False     polar  worldnews\n",
       "1    1201232075   2008-01-25         2  ...    False     polar  worldnews\n",
       "2    1201232523   2008-01-25         3  ...    False     polar  worldnews\n",
       "3    1201233290   2008-01-25         1  ...    False   fadi420  worldnews\n",
       "4    1201274720   2008-01-25         4  ...    False  mhermans  worldnews\n",
       "\n",
       "[5 rows x 8 columns]"
      ]
     },
     "execution_count": 4,
     "metadata": {
      "tags": []
     },
     "output_type": "execute_result"
    }
   ],
   "source": [
    "df.head()"
   ]
  },
  {
   "cell_type": "code",
   "execution_count": 5,
   "metadata": {
    "colab": {
     "base_uri": "https://localhost:8080/",
     "height": 34
    },
    "colab_type": "code",
    "id": "Aq1gub3ecwdu",
    "outputId": "f8234286-3e71-431e-de3d-cb9bc5bfd37d"
   },
   "outputs": [
    {
     "name": "stdout",
     "output_type": "stream",
     "text": [
      "The size of dataset (number of samples) is 509236\n"
     ]
    }
   ],
   "source": [
    "print('The size of dataset (number of samples) is %i' %len(df))"
   ]
  },
  {
   "cell_type": "markdown",
   "metadata": {
    "colab_type": "text",
    "id": "G3yigzCXPjJX"
   },
   "source": [
    "From the block below, it can be gleaned that all the samples belong to the category **'worldnews'**, and all the samples also have **0 downvotes**. In case of a very large dataset, we can remove features which would not help us in any way for classification, or something else. Hence, when we use this data, we should remove or drop these two features."
   ]
  },
  {
   "cell_type": "code",
   "execution_count": 6,
   "metadata": {
    "colab": {
     "base_uri": "https://localhost:8080/",
     "height": 51
    },
    "colab_type": "code",
    "id": "aBf0Jjt2c3SW",
    "outputId": "d47fb16f-65da-4b70-9a0d-08cf4d6acc7e"
   },
   "outputs": [
    {
     "name": "stdout",
     "output_type": "stream",
     "text": [
      "Number of samples belonging to the category world news is 509236\n",
      "Number of samples having 0 downvotes is 509236\n"
     ]
    }
   ],
   "source": [
    "print('Number of samples belonging to the category world news is %i' %sum(df['category'] == \"worldnews\"))\n",
    "print('Number of samples having 0 downvotes is %i' %sum(df[\"down_votes\"] == 0))"
   ]
  },
  {
   "cell_type": "markdown",
   "metadata": {
    "colab_type": "text",
    "id": "J2BznZxVRGJh"
   },
   "source": [
    "The block below shows that only a small number of articles are deemed to be for people above 18 years old. Majority of the articles can be read by all age groups."
   ]
  },
  {
   "cell_type": "code",
   "execution_count": 7,
   "metadata": {
    "colab": {
     "base_uri": "https://localhost:8080/",
     "height": 34
    },
    "colab_type": "code",
    "id": "_xoWBg1GdOld",
    "outputId": "e659b5dc-35a9-4d38-bb88-d42018f2eb07"
   },
   "outputs": [
    {
     "name": "stdout",
     "output_type": "stream",
     "text": [
      "The number of articles for people above 18 years old is 320 and articles for everyone above and below 18 years old is 508916\n"
     ]
    }
   ],
   "source": [
    "print('The number of articles for people above 18 years old is %i and articles for everyone above and below 18 years old is %i' %(sum(df[\"over_18\"] == True), sum(df[\"over_18\"] == False)))"
   ]
  },
  {
   "cell_type": "markdown",
   "metadata": {
    "colab_type": "text",
    "id": "uzv2Khm0R_Bl"
   },
   "source": [
    "The two code blocks below show that the articles meant for people above 18 years old gets much more upvotes per article as compared to articles meant for all age groups."
   ]
  },
  {
   "cell_type": "code",
   "execution_count": 8,
   "metadata": {
    "colab": {
     "base_uri": "https://localhost:8080/",
     "height": 34
    },
    "colab_type": "code",
    "id": "VXqyAPXgeq23",
    "outputId": "b2505983-27a2-4f39-d08e-08599b4ffcee"
   },
   "outputs": [
    {
     "name": "stdout",
     "output_type": "stream",
     "text": [
      "Number of upvotes per articles meant to be for people above 18 years old is 380.375\n"
     ]
    }
   ],
   "source": [
    "print('Number of upvotes per articles meant to be for people above 18 years old is %g' %(df.groupby('over_18')['up_votes'].sum()[1]/sum(df[\"over_18\"] == True)))"
   ]
  },
  {
   "cell_type": "code",
   "execution_count": 9,
   "metadata": {
    "colab": {
     "base_uri": "https://localhost:8080/",
     "height": 34
    },
    "colab_type": "code",
    "id": "l7-GSS9OfEbS",
    "outputId": "d362583a-a3d9-46cc-a4df-86ca371aba68"
   },
   "outputs": [
    {
     "name": "stdout",
     "output_type": "stream",
     "text": [
      "Number of upvotes per articles meant to be for all people is 112.068\n"
     ]
    }
   ],
   "source": [
    "print('Number of upvotes per articles meant to be for all people is %g' %(df.groupby('over_18')['up_votes'].sum()[0]/sum(df[\"over_18\"] == False)))"
   ]
  },
  {
   "cell_type": "markdown",
   "metadata": {
    "colab_type": "text",
    "id": "8KON_uwAS_Py"
   },
   "source": [
    "The code block below displays the top ten authors having the maximum number of upvotes."
   ]
  },
  {
   "cell_type": "code",
   "execution_count": 10,
   "metadata": {
    "colab": {
     "base_uri": "https://localhost:8080/",
     "height": 221
    },
    "colab_type": "code",
    "id": "LTBCGH8_guz0",
    "outputId": "c14c9645-973d-4a23-dc1a-36dec2d4fd3d"
   },
   "outputs": [
    {
     "data": {
      "text/plain": [
       "author\n",
       "maxwellhill        1985416\n",
       "anutensil          1531544\n",
       "Libertatea          832102\n",
       "DoremusJessup       584380\n",
       "Wagamaga            580121\n",
       "NinjaDiscoJesus     492582\n",
       "madazzahatter       428966\n",
       "madam1              390541\n",
       "davidreiss666       338306\n",
       "kulkke              333311\n",
       "Name: up_votes, dtype: int64"
      ]
     },
     "execution_count": 10,
     "metadata": {
      "tags": []
     },
     "output_type": "execute_result"
    }
   ],
   "source": [
    "df.groupby('author')['up_votes'].sum().sort_values(ascending=False).head(10)"
   ]
  },
  {
   "cell_type": "markdown",
   "metadata": {
    "colab_type": "text",
    "id": "6N1TE-KyTi6s"
   },
   "source": [
    "The code block below displays the top ten authors having the most number of posts."
   ]
  },
  {
   "cell_type": "code",
   "execution_count": 11,
   "metadata": {
    "colab": {
     "base_uri": "https://localhost:8080/",
     "height": 221
    },
    "colab_type": "code",
    "id": "yy-ZzqbLsYvn",
    "outputId": "076f5c56-fdda-47fc-b681-18c3fd5ab0ba"
   },
   "outputs": [
    {
     "data": {
      "text/plain": [
       "author\n",
       "davidreiss666    8897\n",
       "anutensil        5730\n",
       "DoremusJessup    5037\n",
       "maxwellhill      4023\n",
       "igeldard         4013\n",
       "readerseven      3170\n",
       "twolf1           2923\n",
       "madam1           2658\n",
       "nimobo           2564\n",
       "madazzahatter    2503\n",
       "Name: up_votes, dtype: int64"
      ]
     },
     "execution_count": 11,
     "metadata": {
      "tags": []
     },
     "output_type": "execute_result"
    }
   ],
   "source": [
    "df.groupby('author')['up_votes'].count().sort_values(ascending=False).head(10)"
   ]
  },
  {
   "cell_type": "markdown",
   "metadata": {
    "colab_type": "text",
    "id": "HlF7JP9GTtq6"
   },
   "source": [
    "The block below displays the top ten authors sorted by the average number of upvotes per post. This lets us know which authors are likely to get more upvotes on their posts."
   ]
  },
  {
   "cell_type": "code",
   "execution_count": 12,
   "metadata": {
    "colab": {
     "base_uri": "https://localhost:8080/",
     "height": 221
    },
    "colab_type": "code",
    "id": "oOId1oAWmpRX",
    "outputId": "e16c743e-8aa0-42c2-a26e-ef4d16f6c218"
   },
   "outputs": [
    {
     "data": {
      "text/plain": [
       "author\n",
       "navysealassulter       12333.0\n",
       "seapiglet              11288.0\n",
       "DawgsOnTopUGA          10515.0\n",
       "Flamo_the_Idiot_Boy    10289.0\n",
       "haunted_cheesecake      9408.0\n",
       "bendertheoffender22     8781.0\n",
       "crippledrejex           8601.0\n",
       "FlandersNed             8446.0\n",
       "lesseva96               8404.0\n",
       "sverdrupian             8262.0\n",
       "Name: up_votes, dtype: float64"
      ]
     },
     "execution_count": 12,
     "metadata": {
      "tags": []
     },
     "output_type": "execute_result"
    }
   ],
   "source": [
    "((df.groupby('author')['up_votes'].sum())/(df.groupby('author')['up_votes'].count())).sort_values(ascending=False).head(10)"
   ]
  },
  {
   "cell_type": "markdown",
   "metadata": {
    "colab_type": "text",
    "id": "mhhPqyBnUF1m"
   },
   "source": [
    "The above output is verified by the following code block. It can be seen that the author who is number 1 on the list preceding this block is 'navysealassulter', and the following block displays the instances where this author's name has appeared. As we can see, he has only one post garnering 12333 upvotes, and this number also aligns with the number mentioned above."
   ]
  },
  {
   "cell_type": "code",
   "execution_count": 13,
   "metadata": {
    "colab": {
     "base_uri": "https://localhost:8080/",
     "height": 80
    },
    "colab_type": "code",
    "id": "pzxOCj9lz7GW",
    "outputId": "d31afa8d-a60d-456c-d4c1-84673fc4fd93"
   },
   "outputs": [
    {
     "data": {
      "text/html": [
       "<div>\n",
       "<style scoped>\n",
       "    .dataframe tbody tr th:only-of-type {\n",
       "        vertical-align: middle;\n",
       "    }\n",
       "\n",
       "    .dataframe tbody tr th {\n",
       "        vertical-align: top;\n",
       "    }\n",
       "\n",
       "    .dataframe thead th {\n",
       "        text-align: right;\n",
       "    }\n",
       "</style>\n",
       "<table border=\"1\" class=\"dataframe\">\n",
       "  <thead>\n",
       "    <tr style=\"text-align: right;\">\n",
       "      <th></th>\n",
       "      <th>time_created</th>\n",
       "      <th>date_created</th>\n",
       "      <th>up_votes</th>\n",
       "      <th>down_votes</th>\n",
       "      <th>title</th>\n",
       "      <th>over_18</th>\n",
       "      <th>author</th>\n",
       "      <th>category</th>\n",
       "    </tr>\n",
       "  </thead>\n",
       "  <tbody>\n",
       "    <tr>\n",
       "      <th>391318</th>\n",
       "      <td>1440367768</td>\n",
       "      <td>2015-08-23</td>\n",
       "      <td>12333</td>\n",
       "      <td>0</td>\n",
       "      <td>The police officer who leaked the footage of t...</td>\n",
       "      <td>False</td>\n",
       "      <td>navysealassulter</td>\n",
       "      <td>worldnews</td>\n",
       "    </tr>\n",
       "  </tbody>\n",
       "</table>\n",
       "</div>"
      ],
      "text/plain": [
       "        time_created date_created  ...            author   category\n",
       "391318    1440367768   2015-08-23  ...  navysealassulter  worldnews\n",
       "\n",
       "[1 rows x 8 columns]"
      ]
     },
     "execution_count": 13,
     "metadata": {
      "tags": []
     },
     "output_type": "execute_result"
    }
   ],
   "source": [
    "df[df['author'] == 'navysealassulter']"
   ]
  },
  {
   "cell_type": "markdown",
   "metadata": {
    "colab_type": "text",
    "id": "11yLPpCqYORQ"
   },
   "source": [
    "Now that we have finished our visual inspection, we will move on to training a model using basic classifiers like SVM and Logisitic Regression to see how much the title effects the upvotes. Basically, based on title, we will check if the post belongs in the posts having upvotes greater than 85% of the total data."
   ]
  },
  {
   "cell_type": "code",
   "execution_count": 0,
   "metadata": {
    "colab": {},
    "colab_type": "code",
    "id": "ieNmYWfr7YVV"
   },
   "outputs": [],
   "source": [
    "df1 = pd.read_csv(path)"
   ]
  },
  {
   "cell_type": "code",
   "execution_count": 15,
   "metadata": {
    "colab": {
     "base_uri": "https://localhost:8080/",
     "height": 204
    },
    "colab_type": "code",
    "id": "-Y42pVn_FB26",
    "outputId": "97ad343c-a091-4e9c-d60e-44e316be4853"
   },
   "outputs": [
    {
     "data": {
      "text/html": [
       "<div>\n",
       "<style scoped>\n",
       "    .dataframe tbody tr th:only-of-type {\n",
       "        vertical-align: middle;\n",
       "    }\n",
       "\n",
       "    .dataframe tbody tr th {\n",
       "        vertical-align: top;\n",
       "    }\n",
       "\n",
       "    .dataframe thead th {\n",
       "        text-align: right;\n",
       "    }\n",
       "</style>\n",
       "<table border=\"1\" class=\"dataframe\">\n",
       "  <thead>\n",
       "    <tr style=\"text-align: right;\">\n",
       "      <th></th>\n",
       "      <th>time_created</th>\n",
       "      <th>date_created</th>\n",
       "      <th>up_votes</th>\n",
       "      <th>down_votes</th>\n",
       "      <th>title</th>\n",
       "      <th>over_18</th>\n",
       "      <th>author</th>\n",
       "      <th>category</th>\n",
       "    </tr>\n",
       "  </thead>\n",
       "  <tbody>\n",
       "    <tr>\n",
       "      <th>0</th>\n",
       "      <td>1201232046</td>\n",
       "      <td>2008-01-25</td>\n",
       "      <td>3</td>\n",
       "      <td>0</td>\n",
       "      <td>Scores killed in Pakistan clashes</td>\n",
       "      <td>False</td>\n",
       "      <td>polar</td>\n",
       "      <td>worldnews</td>\n",
       "    </tr>\n",
       "    <tr>\n",
       "      <th>1</th>\n",
       "      <td>1201232075</td>\n",
       "      <td>2008-01-25</td>\n",
       "      <td>2</td>\n",
       "      <td>0</td>\n",
       "      <td>Japan resumes refuelling mission</td>\n",
       "      <td>False</td>\n",
       "      <td>polar</td>\n",
       "      <td>worldnews</td>\n",
       "    </tr>\n",
       "    <tr>\n",
       "      <th>2</th>\n",
       "      <td>1201232523</td>\n",
       "      <td>2008-01-25</td>\n",
       "      <td>3</td>\n",
       "      <td>0</td>\n",
       "      <td>US presses Egypt on Gaza border</td>\n",
       "      <td>False</td>\n",
       "      <td>polar</td>\n",
       "      <td>worldnews</td>\n",
       "    </tr>\n",
       "    <tr>\n",
       "      <th>3</th>\n",
       "      <td>1201233290</td>\n",
       "      <td>2008-01-25</td>\n",
       "      <td>1</td>\n",
       "      <td>0</td>\n",
       "      <td>Jump-start economy: Give health care to all</td>\n",
       "      <td>False</td>\n",
       "      <td>fadi420</td>\n",
       "      <td>worldnews</td>\n",
       "    </tr>\n",
       "    <tr>\n",
       "      <th>4</th>\n",
       "      <td>1201274720</td>\n",
       "      <td>2008-01-25</td>\n",
       "      <td>4</td>\n",
       "      <td>0</td>\n",
       "      <td>Council of Europe bashes EU&amp;UN terror blacklist</td>\n",
       "      <td>False</td>\n",
       "      <td>mhermans</td>\n",
       "      <td>worldnews</td>\n",
       "    </tr>\n",
       "  </tbody>\n",
       "</table>\n",
       "</div>"
      ],
      "text/plain": [
       "   time_created date_created  up_votes  ...  over_18    author   category\n",
       "0    1201232046   2008-01-25         3  ...    False     polar  worldnews\n",
       "1    1201232075   2008-01-25         2  ...    False     polar  worldnews\n",
       "2    1201232523   2008-01-25         3  ...    False     polar  worldnews\n",
       "3    1201233290   2008-01-25         1  ...    False   fadi420  worldnews\n",
       "4    1201274720   2008-01-25         4  ...    False  mhermans  worldnews\n",
       "\n",
       "[5 rows x 8 columns]"
      ]
     },
     "execution_count": 15,
     "metadata": {
      "tags": []
     },
     "output_type": "execute_result"
    }
   ],
   "source": [
    "df1.head()"
   ]
  },
  {
   "cell_type": "markdown",
   "metadata": {
    "colab_type": "text",
    "id": "FYWK6D29wMGM"
   },
   "source": [
    "As we saw before, downvotes and categories are basically redundant features. To make our model simpler, we will also remove time created and date created for the posts."
   ]
  },
  {
   "cell_type": "code",
   "execution_count": 0,
   "metadata": {
    "colab": {},
    "colab_type": "code",
    "id": "D5CVyPd9FFTH"
   },
   "outputs": [],
   "source": [
    "df1 = df1.drop(\"category\", axis = 1)\n",
    "df1 = df1.drop(\"down_votes\", axis = 1)\n",
    "df1 = df1.drop(\"time_created\", axis = 1)\n",
    "df1 = df1.drop(\"date_created\", axis = 1)"
   ]
  },
  {
   "cell_type": "code",
   "execution_count": 17,
   "metadata": {
    "colab": {
     "base_uri": "https://localhost:8080/",
     "height": 204
    },
    "colab_type": "code",
    "id": "7G8Z0DofF23W",
    "outputId": "0cf12b68-a571-4212-f4e3-f835928d4836"
   },
   "outputs": [
    {
     "data": {
      "text/html": [
       "<div>\n",
       "<style scoped>\n",
       "    .dataframe tbody tr th:only-of-type {\n",
       "        vertical-align: middle;\n",
       "    }\n",
       "\n",
       "    .dataframe tbody tr th {\n",
       "        vertical-align: top;\n",
       "    }\n",
       "\n",
       "    .dataframe thead th {\n",
       "        text-align: right;\n",
       "    }\n",
       "</style>\n",
       "<table border=\"1\" class=\"dataframe\">\n",
       "  <thead>\n",
       "    <tr style=\"text-align: right;\">\n",
       "      <th></th>\n",
       "      <th>up_votes</th>\n",
       "      <th>title</th>\n",
       "      <th>over_18</th>\n",
       "      <th>author</th>\n",
       "    </tr>\n",
       "  </thead>\n",
       "  <tbody>\n",
       "    <tr>\n",
       "      <th>0</th>\n",
       "      <td>3</td>\n",
       "      <td>Scores killed in Pakistan clashes</td>\n",
       "      <td>False</td>\n",
       "      <td>polar</td>\n",
       "    </tr>\n",
       "    <tr>\n",
       "      <th>1</th>\n",
       "      <td>2</td>\n",
       "      <td>Japan resumes refuelling mission</td>\n",
       "      <td>False</td>\n",
       "      <td>polar</td>\n",
       "    </tr>\n",
       "    <tr>\n",
       "      <th>2</th>\n",
       "      <td>3</td>\n",
       "      <td>US presses Egypt on Gaza border</td>\n",
       "      <td>False</td>\n",
       "      <td>polar</td>\n",
       "    </tr>\n",
       "    <tr>\n",
       "      <th>3</th>\n",
       "      <td>1</td>\n",
       "      <td>Jump-start economy: Give health care to all</td>\n",
       "      <td>False</td>\n",
       "      <td>fadi420</td>\n",
       "    </tr>\n",
       "    <tr>\n",
       "      <th>4</th>\n",
       "      <td>4</td>\n",
       "      <td>Council of Europe bashes EU&amp;UN terror blacklist</td>\n",
       "      <td>False</td>\n",
       "      <td>mhermans</td>\n",
       "    </tr>\n",
       "  </tbody>\n",
       "</table>\n",
       "</div>"
      ],
      "text/plain": [
       "   up_votes                                            title  over_18    author\n",
       "0         3                Scores killed in Pakistan clashes    False     polar\n",
       "1         2                 Japan resumes refuelling mission    False     polar\n",
       "2         3                  US presses Egypt on Gaza border    False     polar\n",
       "3         1     Jump-start economy: Give health care to all     False   fadi420\n",
       "4         4  Council of Europe bashes EU&UN terror blacklist    False  mhermans"
      ]
     },
     "execution_count": 17,
     "metadata": {
      "tags": []
     },
     "output_type": "execute_result"
    }
   ],
   "source": [
    "df1.head()"
   ]
  },
  {
   "cell_type": "markdown",
   "metadata": {
    "colab_type": "text",
    "id": "k6nelviO1fyH"
   },
   "source": [
    "Below we will tokenize and stem the dataset using predefined libraries."
   ]
  },
  {
   "cell_type": "code",
   "execution_count": 0,
   "metadata": {
    "colab": {},
    "colab_type": "code",
    "id": "hjkHuY7BF4yy"
   },
   "outputs": [],
   "source": [
    "#main function\n",
    "def ts(title):\n",
    "    stemmed = []\n",
    "    tokenized = []\n",
    "    for i in title:\n",
    "        stemmed1 = tokenstem(i) \n",
    "        tokenized1 = token(i)\n",
    "        stemmed.extend(stemmed1)\n",
    "        tokenized.extend(tokenized1)\n",
    "    return stemmed, tokenized\n",
    "\n",
    "#side functions\n",
    "def tokenstem(text):\n",
    "    words1 = []\n",
    "    words = [word for sent in nltk.sent_tokenize(text) for word in nltk.word_tokenize(sent)] #tokenize sentences then word\n",
    "    for token in words:\n",
    "        if re.search('[a-zA-Z]', token): #check if it is a word\n",
    "            words1.append(token)\n",
    "    stems = [stemmer.stem(t) for t in words1]\n",
    "    return stems\n",
    "\n",
    "def token(text):\n",
    "    words2 = []\n",
    "    words = [word for sent in nltk.sent_tokenize(text) for word in nltk.word_tokenize(sent)] #tokenize sentences then word\n",
    "    for token in words:\n",
    "        if re.search('[a-zA-Z]', token):\n",
    "            words2.append(token)\n",
    "    return words2"
   ]
  },
  {
   "cell_type": "code",
   "execution_count": 19,
   "metadata": {
    "colab": {
     "base_uri": "https://localhost:8080/",
     "height": 71
    },
    "colab_type": "code",
    "id": "Rhf7dnDHGGZB",
    "outputId": "63e84ef0-aafe-4855-8ba1-e7c42d790f7a"
   },
   "outputs": [
    {
     "name": "stderr",
     "output_type": "stream",
     "text": [
      "/usr/local/lib/python3.6/dist-packages/sklearn/feature_extraction/text.py:385: UserWarning: Your stop_words may be inconsistent with your preprocessing. Tokenizing the stop words generated tokens [\"'d\", \"'s\", 'abov', 'afterward', 'alon', 'alreadi', 'alway', 'ani', 'anoth', 'anyon', 'anyth', 'anywher', 'becam', 'becaus', 'becom', 'befor', 'besid', 'cri', 'describ', 'doe', 'dure', 'els', 'elsewher', 'empti', 'everi', 'everyon', 'everyth', 'everywher', 'fifti', 'forti', 'henc', 'hereaft', 'herebi', 'howev', 'hundr', 'inde', 'mani', 'meanwhil', 'moreov', \"n't\", 'need', 'nobodi', 'noon', 'noth', 'nowher', 'onc', 'onli', 'otherwis', 'ourselv', 'perhap', 'pleas', 'sever', 'sha', 'sinc', 'sincer', 'sixti', 'someon', 'someth', 'sometim', 'somewher', 'themselv', 'thenc', 'thereaft', 'therebi', 'therefor', 'togeth', 'twelv', 'twenti', 'veri', 'whatev', 'whenc', 'whenev', 'wherea', 'whereaft', 'wherebi', 'wherev', 'whi', 'wo', 'yourselv'] not in stop_words.\n",
      "  'stop_words.' % sorted(inconsistent))\n"
     ]
    }
   ],
   "source": [
    "titles = df1.title.str.lower() #to make it lower case\n",
    "stemmedop, tokenizedop = ts(titles)\n",
    "#To remove repitions for better output\n",
    "words = zip(stemmedop, tokenizedop) \n",
    "words = list(set(words))\n",
    "stemmed2, tokenized2 = zip(*words)\n",
    "merged = pd.DataFrame({'words': tokenized2}, index = stemmed2)  #to put words under a specific stem\n",
    "#Using NLTK to get stopwords to remove it from our list\n",
    "stopwords = nltk.corpus.stopwords.words('english')\n",
    "stop_words = text.ENGLISH_STOP_WORDS.union(stopwords)\n",
    "# tf-idf vectorizer\n",
    "tfidf_vectorizer = TfidfVectorizer(min_df =10**-3 ,analyzer = 'word', max_features=len(set(stemmed2)), stop_words=stop_words, tokenizer=tokenstem, ngram_range=(1,3))\n",
    "tfidf1 = tfidf_vectorizer.fit_transform(titles)"
   ]
  },
  {
   "cell_type": "code",
   "execution_count": 0,
   "metadata": {
    "colab": {},
    "colab_type": "code",
    "id": "ePyNQJY3GtLi"
   },
   "outputs": [],
   "source": [
    "modified = np.percentile(df1['up_votes'], 85)\n",
    "op = [1 if i > modified else 0 for i in df['up_votes']]\n",
    "op = np.array(op)\n",
    "x_train, x_test, y_train, y_test = train_test_split(tfidf1, op, test_size = 0.2, shuffle = True, random_state = 0)"
   ]
  },
  {
   "cell_type": "markdown",
   "metadata": {
    "colab_type": "text",
    "id": "dXvxbwdIr7aa"
   },
   "source": [
    "Here, we first try the Linear SVM classifier and check output."
   ]
  },
  {
   "cell_type": "code",
   "execution_count": 21,
   "metadata": {
    "colab": {
     "base_uri": "https://localhost:8080/",
     "height": 238
    },
    "colab_type": "code",
    "id": "gjkJI9YqKyoP",
    "outputId": "4a470626-bad2-43dd-de02-0a3ee7b140c1"
   },
   "outputs": [
    {
     "name": "stdout",
     "output_type": "stream",
     "text": [
      "Classification accuracy on Test Set is 85.0758\n",
      "\n",
      " Some statistics of the Linear SVM model are:\n",
      "\n",
      "              precision    recall  f1-score   support\n",
      "\n",
      "           0       0.85      1.00      0.92     86634\n",
      "           1       0.56      0.00      0.01     15214\n",
      "\n",
      "    accuracy                           0.85    101848\n",
      "   macro avg       0.71      0.50      0.46    101848\n",
      "weighted avg       0.81      0.85      0.78    101848\n",
      "\n"
     ]
    }
   ],
   "source": [
    "clf = LinearSVC()\n",
    "clf.fit(x_train, y_train)\n",
    "y_predict = clf.predict(x_test)\n",
    "print('Classification accuracy on Test Set is %g' %(clf.score(x_test, y_test)*100))\n",
    "print('\\n Some statistics of the Linear SVM model are:\\n')\n",
    "print(classification_report(y_test, y_predict)) "
   ]
  },
  {
   "cell_type": "markdown",
   "metadata": {
    "colab_type": "text",
    "id": "NJyLsDjzs1wd"
   },
   "source": [
    "Next we check the classification accuracy of Logistic Regression."
   ]
  },
  {
   "cell_type": "code",
   "execution_count": 22,
   "metadata": {
    "colab": {
     "base_uri": "https://localhost:8080/",
     "height": 238
    },
    "colab_type": "code",
    "id": "CpaL6Nvxqvqn",
    "outputId": "38276257-bca0-4563-d1ac-edb83803a7d9"
   },
   "outputs": [
    {
     "name": "stdout",
     "output_type": "stream",
     "text": [
      "Classification accuracy on Test Set is 85.0935\n",
      "\n",
      " Some statistics of the Logistic Regression model are:\n",
      "\n",
      "              precision    recall  f1-score   support\n",
      "\n",
      "           0       0.85      1.00      0.92     86634\n",
      "           1       0.53      0.02      0.04     15214\n",
      "\n",
      "    accuracy                           0.85    101848\n",
      "   macro avg       0.69      0.51      0.48    101848\n",
      "weighted avg       0.80      0.85      0.79    101848\n",
      "\n"
     ]
    }
   ],
   "source": [
    "clf = LogisticRegression(max_iter=10000)\n",
    "clf.fit(x_train, y_train)\n",
    "y_predict = clf.predict(x_test)\n",
    "print('Classification accuracy on Test Set is %g' %(clf.score(x_test, y_test)*100))\n",
    "print('\\n Some statistics of the Logistic Regression model are:\\n')\n",
    "print(classification_report(y_test, y_predict)) "
   ]
  },
  {
   "cell_type": "markdown",
   "metadata": {
    "colab_type": "text",
    "id": "SoGARRPv1uXi"
   },
   "source": [
    "The accuracy of Linear SVM and Logistic Regression is same.\n",
    "\n",
    "Also, using only the text, we have got a very high classification accuracy (~85%). This shows that there is a very strong correlation between the titles and the number of upvotes.\n",
    "\n",
    "Using more computing power, we could probably see better results with more features."
   ]
  }
 ],
 "metadata": {
  "accelerator": "GPU",
  "colab": {
   "name": "Eluvio Challenge.ipynb",
   "provenance": []
  },
  "kernelspec": {
   "display_name": "Python 3",
   "language": "python",
   "name": "python3"
  },
  "language_info": {
   "codemirror_mode": {
    "name": "ipython",
    "version": 3
   },
   "file_extension": ".py",
   "mimetype": "text/x-python",
   "name": "python",
   "nbconvert_exporter": "python",
   "pygments_lexer": "ipython3",
   "version": "3.7.6"
  }
 },
 "nbformat": 4,
 "nbformat_minor": 1
}
